{
 "cells": [
  {
   "cell_type": "markdown",
   "metadata": {},
   "source": [
    "### Einzelne Simulation"
   ]
  },
  {
   "cell_type": "code",
   "execution_count": 5,
   "metadata": {},
   "outputs": [
    {
     "data": {
      "image/png": "[encoded data removed]",
      "text/plain": [
       "<Figure size 432x288 with 1 Axes>"
      ]
     },
     "metadata": {
      "needs_background": "light"
     },
     "output_type": "display_data"
    }
   ],
   "source": [
    "from Tissue2D import Tissue\n",
    "import matplotlib.pyplot as plt\n",
    "\n",
    "# Instantiate tissue class\n",
    "cellCluster = Tissue()\n",
    "\n",
    "# Run simulation for specified amount of time. If not specified it's 24 hours.\n",
    "cellCluster.evolution(T=10)\n",
    "\n",
    "# Plot the result\n",
    "cellCluster.cellPlot(size=2,alphaValue=1)\n",
    "plt.show()"
   ]
  },
  {
   "cell_type": "markdown",
   "metadata": {},
   "source": [
    "number of cells"
   ]
  },
  {
   "cell_type": "code",
   "execution_count": 6,
   "metadata": {},
   "outputs": [
    {
     "data": {
      "text/plain": [
       "52"
      ]
     },
     "execution_count": 6,
     "metadata": {},
     "output_type": "execute_result"
    }
   ],
   "source": [
    "cellCluster.nofCells"
   ]
  },
  {
   "cell_type": "markdown",
   "metadata": {},
   "source": [
    "cell coordinates"
   ]
  },
  {
   "cell_type": "code",
   "execution_count": 8,
   "metadata": {},
   "outputs": [
    {
     "data": {
      "text/plain": [
       "array([[-3.71811350e+00, -4.86494549e+00],\n",
       "       [ 4.30473840e-01, -2.82476110e+00],\n",
       "       [-1.73280027e+00,  7.73006139e+00],\n",
       "       [ 3.91187666e+00, -4.43535448e+00],\n",
       "       [-1.80334748e+00,  1.88718702e+00],\n",
       "       [-6.97377981e+00,  6.50080522e-01],\n",
       "       [ 3.28202263e+00,  3.40643707e+00],\n",
       "       [ 6.45446114e+00, -2.50717306e+00],\n",
       "       [ 3.59972495e+00,  4.69235651e+00],\n",
       "       [-5.95222427e+00, -8.43343335e+00],\n",
       "       [-4.01708863e+00,  3.66518496e+00],\n",
       "       [ 3.10630801e+00, -5.77984052e+00],\n",
       "       [ 4.46801078e+00,  2.60310436e-01],\n",
       "       [ 7.44636987e+00,  7.54578755e+00],\n",
       "       [ 4.96808087e-01, -1.81747062e+00],\n",
       "       [-3.66418961e+00,  7.64144046e+00],\n",
       "       [ 4.12140091e+00,  7.63539457e+00],\n",
       "       [-7.47600679e+00, -9.93705821e-01],\n",
       "       [ 2.80840802e+00,  4.28358924e+00],\n",
       "       [-1.88957442e+00, -1.05772296e+01],\n",
       "       [-3.39578634e+00,  2.37369324e-01],\n",
       "       [ 6.71896613e-03, -5.50110201e+00],\n",
       "       [ 1.09054683e+00, -3.32074773e+00],\n",
       "       [ 4.75243620e+00, -8.61063223e+00],\n",
       "       [ 9.82663276e+00, -2.73484261e-02],\n",
       "       [ 5.74744182e+00,  1.07205570e+00],\n",
       "       [-7.74083761e+00,  5.42477111e+00],\n",
       "       [-8.22232683e+00, -4.48360922e+00],\n",
       "       [ 7.55199622e-01,  3.63783239e+00],\n",
       "       [ 4.55099523e+00,  1.15481114e+00],\n",
       "       [-3.00354336e+00,  4.85413178e+00],\n",
       "       [-2.75213765e+00, -2.23186010e+00],\n",
       "       [-6.06857684e+00, -1.79091131e+00],\n",
       "       [ 4.59032087e-02,  8.10910333e+00],\n",
       "       [-8.33715347e-01, -7.75325703e+00],\n",
       "       [-6.90883698e-01,  1.99088500e-01],\n",
       "       [-7.30320221e-01,  9.82188157e+00],\n",
       "       [ 2.62416727e+00,  8.97529420e+00],\n",
       "       [ 5.08704156e+00,  8.11933095e+00],\n",
       "       [ 5.29119884e-01, -7.66250079e+00],\n",
       "       [-2.42007154e+00, -8.90995009e+00],\n",
       "       [ 4.08750927e+00, -3.59452361e+00],\n",
       "       [ 1.74653356e+00,  4.48161449e-01],\n",
       "       [-7.70370540e+00,  1.86351041e+00],\n",
       "       [-2.38210306e-01, -4.52584189e+00],\n",
       "       [ 6.01304499e+00,  4.17411752e+00],\n",
       "       [ 8.97841543e+00, -3.36060084e+00],\n",
       "       [ 8.56497750e+00, -6.64264132e+00],\n",
       "       [ 9.29693115e+00,  3.53498571e+00],\n",
       "       [-8.67967464e+00,  1.40633041e+00],\n",
       "       [-4.46570555e+00, -7.14092425e+00],\n",
       "       [ 1.27686618e+00,  8.84519680e-01],\n",
       "       [ 5.22929727e+00,  1.86170090e+00],\n",
       "       [ 7.05106781e+00, -1.22825749e+00],\n",
       "       [-4.07073859e+00,  1.88210772e+00],\n",
       "       [-8.40496987e+00,  3.51646884e+00],\n",
       "       [-4.60774179e+00, -2.77291177e+00],\n",
       "       [-7.14338564e+00, -3.94078451e+00],\n",
       "       [-6.38710043e-01,  3.24900915e+00],\n",
       "       [ 2.35363478e+00,  2.24676448e+00],\n",
       "       [ 4.21270988e-01,  5.50733508e+00],\n",
       "       [-5.28283963e+00, -3.53768798e+00],\n",
       "       [ 9.68917090e-01,  8.21707497e+00],\n",
       "       [-2.58466333e+00,  5.92778515e+00],\n",
       "       [ 5.86088890e-01,  4.52650043e+00],\n",
       "       [-1.02010677e+01, -1.49787820e+00],\n",
       "       [ 2.37449911e+00,  7.40484995e+00],\n",
       "       [-6.66665799e+00, -5.40565363e+00],\n",
       "       [-4.31579635e+00,  7.18779458e+00],\n",
       "       [-1.08733731e+00, -1.91630384e+00],\n",
       "       [ 9.67799750e-01, -5.86739857e+00],\n",
       "       [-6.63917180e-01,  4.15897960e+00],\n",
       "       [ 3.53420440e+00, -9.61014767e+00],\n",
       "       [ 3.62121042e-01, -1.05254736e+01],\n",
       "       [ 2.41369493e+00, -5.37494046e+00],\n",
       "       [ 4.86521107e+00, -4.07769956e+00],\n",
       "       [-1.14955970e+00, -1.05875255e+00],\n",
       "       [ 4.98303600e+00,  7.00880530e+00],\n",
       "       [-5.62003891e+00,  1.32061625e+00],\n",
       "       [-4.24307877e+00, -1.95141902e+00],\n",
       "       [ 6.60460888e+00, -4.27149400e-01],\n",
       "       [-2.91042282e+00, -7.18654700e+00],\n",
       "       [ 6.04426169e+00, -6.45851891e+00],\n",
       "       [-3.13895075e-01,  7.28048591e+00],\n",
       "       [ 4.03375028e+00, -6.68039767e+00],\n",
       "       [-5.96756235e+00,  5.86881282e+00],\n",
       "       [ 7.63514707e+00, -4.82556111e+00],\n",
       "       [ 9.63109808e+00, -1.27483632e+00],\n",
       "       [ 3.74107135e+00, -1.90302917e+00],\n",
       "       [ 8.31893394e+00,  8.87673934e-01],\n",
       "       [-5.74644853e+00,  3.69125390e+00],\n",
       "       [ 3.17236825e+00, -4.10216578e+00],\n",
       "       [ 6.83722296e+00,  3.73754150e+00],\n",
       "       [ 7.60748360e+00,  3.14256755e+00],\n",
       "       [ 2.42710515e+00, -2.28399495e+00],\n",
       "       [-2.48307518e+00, -4.51871122e+00],\n",
       "       [ 4.14663449e+00, -6.75823159e-01],\n",
       "       [-3.78681320e+00, -7.75783350e+00],\n",
       "       [-5.13871309e+00, -7.87441113e+00],\n",
       "       [ 9.28147316e+00,  2.44744005e+00],\n",
       "       [ 5.83455161e+00,  5.30355372e+00],\n",
       "       [ 7.33294754e+00, -2.94246413e+00],\n",
       "       [-5.16127485e+00,  6.18315279e+00],\n",
       "       [ 3.73571040e+00,  5.94232022e-01],\n",
       "       [ 1.27129555e+00, -1.09905449e-01],\n",
       "       [-3.24547452e+00, -4.02224328e+00],\n",
       "       [-4.46360522e+00, -3.60005367e+00],\n",
       "       [-9.55100123e-01,  2.34257430e+00],\n",
       "       [-6.13207176e+00, -6.22747580e+00],\n",
       "       [ 6.82046283e-01, -1.01805948e+00],\n",
       "       [-9.33841054e+00,  6.57111130e-01],\n",
       "       [-6.96902291e+00,  1.50092489e+00],\n",
       "       [-6.22735162e+00, -3.58784810e+00],\n",
       "       [-2.38794591e+00,  2.53174910e+00],\n",
       "       [-3.25736403e+00,  1.52757728e+00],\n",
       "       [ 1.99040318e+00,  8.32734141e+00],\n",
       "       [ 7.45566926e-01,  1.04729092e+01],\n",
       "       [-9.68174792e+00, -3.45949776e+00],\n",
       "       [ 1.48654824e+00,  3.46459019e+00],\n",
       "       [ 2.31207194e+00,  5.72235764e+00],\n",
       "       [-3.44256306e+00,  5.55761167e+00],\n",
       "       [-1.98878998e+00,  6.70221351e+00],\n",
       "       [-5.51586812e+00, -1.16634933e+00],\n",
       "       [ 5.50691044e+00,  2.57193729e-01],\n",
       "       [ 8.22010300e-01,  6.40231384e+00],\n",
       "       [-2.01231514e+00, -6.29549803e-01],\n",
       "       [ 8.43851088e-01, -6.79413240e+00],\n",
       "       [ 2.78901210e+00, -8.12512615e+00],\n",
       "       [ 4.61010783e+00,  2.52427954e+00],\n",
       "       [ 1.03211052e+00,  2.76543598e+00],\n",
       "       [ 1.40328709e+00, -9.63602285e+00],\n",
       "       [-2.96846141e+00,  6.83524977e+00],\n",
       "       [-7.74180107e+00, -5.08066271e+00],\n",
       "       [-8.28470936e+00, -4.96461720e-01],\n",
       "       [-6.55605925e+00, -2.73869052e+00],\n",
       "       [ 6.14319837e+00, -5.49824702e+00],\n",
       "       [-4.58550779e-01, -1.42985978e+00],\n",
       "       [ 8.11312510e-01, -8.70000200e+00],\n",
       "       [-5.36893225e+00,  2.86405724e+00],\n",
       "       [-2.44766405e+00, -3.72577688e+00],\n",
       "       [ 5.84237993e+00, -3.86860768e+00],\n",
       "       [ 6.89561383e+00,  5.69049352e+00],\n",
       "       [-1.18783458e+00, -2.22928491e-01],\n",
       "       [-1.86172249e+00, -7.70722748e+00],\n",
       "       [ 8.91001210e+00, -6.75077904e-01],\n",
       "       [ 1.58587437e+00, -5.14088654e+00],\n",
       "       [-1.18985171e+00, -6.89643652e+00],\n",
       "       [ 6.31248582e+00, -7.44418418e+00],\n",
       "       [-9.14844317e+00, -4.94455534e-01],\n",
       "       [-6.42811667e+00,  3.04520468e+00],\n",
       "       [ 1.89796242e+00, -2.89805727e+00],\n",
       "       [-1.82540912e+00, -5.06594973e+00],\n",
       "       [ 1.05803292e+01,  1.72489689e+00],\n",
       "       [ 5.92830947e+00,  7.87801522e+00],\n",
       "       [-4.68256720e+00,  1.19309259e+00],\n",
       "       [ 1.30216410e+00, -4.29756982e+00],\n",
       "       [-7.23042934e-01, -3.68476496e+00],\n",
       "       [-5.13371389e+00, -1.82154060e+00],\n",
       "       [ 2.84670506e+00, -1.59963536e+00],\n",
       "       [ 6.59674430e+00, -4.60317893e+00],\n",
       "       [-1.26777348e+00,  4.88195285e+00],\n",
       "       [ 3.73154013e+00,  6.47612456e+00],\n",
       "       [-4.44400252e+00,  8.32806816e+00],\n",
       "       [ 8.02317789e+00,  5.28545899e+00],\n",
       "       [ 2.82216026e+00, -6.27672533e-01],\n",
       "       [-3.36816945e+00,  8.69045597e+00],\n",
       "       [-2.67210831e+00, -1.35396899e+00],\n",
       "       [ 4.45894907e+00,  5.03281893e+00],\n",
       "       [-1.68990530e+00, -9.57154273e+00],\n",
       "       [ 4.70017639e+00, -5.80161882e+00],\n",
       "       [ 5.61756606e+00, -2.22329027e+00],\n",
       "       [-3.78375044e+00, -5.43030910e-01],\n",
       "       [ 3.70633792e+00, -8.52502757e+00],\n",
       "       [ 5.69424714e+00, -1.26176018e+00],\n",
       "       [-6.56082568e+00,  4.05230978e+00],\n",
       "       [ 6.19306825e+00,  1.92407703e+00],\n",
       "       [ 8.36693751e+00,  3.96250679e+00],\n",
       "       [-1.39639475e+00, -8.56789121e+00],\n",
       "       [ 8.73148457e+00, -1.63402229e+00],\n",
       "       [-7.57447486e+00,  2.83634998e+00],\n",
       "       [-3.75676790e+00, -9.46847152e+00],\n",
       "       [ 3.67861441e+00, -5.20177791e+00],\n",
       "       [ 3.18210677e+00, -2.43586047e+00],\n",
       "       [ 2.27660866e+00,  1.07078792e+00],\n",
       "       [-1.15111571e+00, -4.42437804e+00],\n",
       "       [-4.67736148e+00,  4.48967188e+00],\n",
       "       [ 1.02676789e+01, -2.06865034e+00],\n",
       "       [-3.06869138e+00, -3.13203384e+00],\n",
       "       [-6.93314141e+00,  5.85559877e+00],\n",
       "       [ 3.04777808e-01,  1.56591641e+00],\n",
       "       [ 7.16484545e+00,  2.00852450e+00],\n",
       "       [-9.40367417e+00,  3.01512591e+00],\n",
       "       [ 1.02462775e+01,  3.64736415e+00],\n",
       "       [-4.43327353e+00, -5.15837515e+00],\n",
       "       [ 1.26870231e+00, -1.48934551e+00],\n",
       "       [ 8.92259759e+00, -5.16048487e+00],\n",
       "       [ 9.97796039e+00, -3.15217592e+00],\n",
       "       [-8.68731856e-01,  7.81977129e+00],\n",
       "       [-1.80267368e-01,  6.37343237e+00],\n",
       "       [-7.63396660e+00,  1.50592500e-02],\n",
       "       [-6.26251257e+00, -7.56024747e+00],\n",
       "       [ 2.44057619e+00,  3.78443903e-01],\n",
       "       [ 7.28932629e+00, -3.87385573e-01],\n",
       "       [-3.52339264e+00,  3.06434396e+00],\n",
       "       [ 8.03377971e+00, -3.44615438e+00],\n",
       "       [-2.83456920e-02,  9.32482542e-02],\n",
       "       [ 6.14963937e+00,  3.29380942e+00],\n",
       "       [-2.64442039e+00,  1.82556555e+00],\n",
       "       [-6.13310525e+00,  5.10078294e-01],\n",
       "       [ 2.06259292e+00,  3.92543940e+00],\n",
       "       [ 4.53025516e+00,  3.22523032e+00],\n",
       "       [-3.54335394e+00, -5.63520854e+00],\n",
       "       [-3.16285226e-01,  1.84402302e+00],\n",
       "       [-8.70610323e+00, -2.51443111e+00],\n",
       "       [ 3.61967528e+00,  2.12373381e+00],\n",
       "       [-7.80428267e+00, -6.36394940e+00],\n",
       "       [ 1.04673591e+00,  1.91500737e+00],\n",
       "       [-8.98810553e+00, -4.06680003e+00],\n",
       "       [ 5.21185200e+00,  2.87702893e+00],\n",
       "       [-5.88710751e+00, -5.20334938e+00],\n",
       "       [-5.14667616e+00, -4.91067180e+00],\n",
       "       [-1.63850052e+00,  2.71460794e+00],\n",
       "       [ 1.23297355e+00,  5.03511428e+00],\n",
       "       [-3.85172096e+00, -6.39448207e+00],\n",
       "       [-5.22996411e+00,  3.77205619e-01],\n",
       "       [ 1.37371812e+00,  7.42553318e+00],\n",
       "       [ 1.43983539e+00, -7.32612488e+00],\n",
       "       [-3.06570787e+00, -4.83360706e+00],\n",
       "       [ 5.87129367e+00, -3.37556917e-01],\n",
       "       [ 1.22667584e+00, -2.38951847e+00],\n",
       "       [ 3.00907957e+00,  2.68482467e+00],\n",
       "       [ 1.45088509e+00,  9.06216596e+00],\n",
       "       [ 5.09998227e+00, -1.64750006e+00],\n",
       "       [ 3.53977595e+00,  8.96896651e+00],\n",
       "       [ 1.33835674e+00, -8.10753411e+00],\n",
       "       [-1.68419845e-01,  2.56244051e+00],\n",
       "       [-1.69074563e+00,  5.70174183e+00],\n",
       "       [ 2.04996374e+00,  4.78565959e+00],\n",
       "       [-3.06136170e-01,  8.95977676e+00],\n",
       "       [ 1.77859154e+00,  6.54766016e+00],\n",
       "       [-3.27201507e+00,  3.89813875e+00],\n",
       "       [-2.79182339e-01, -2.20478808e+00],\n",
       "       [ 5.95516935e+00, -8.56322886e+00],\n",
       "       [ 2.07656532e+00,  2.95155301e+00],\n",
       "       [-2.88199861e-01,  4.79568411e+00],\n",
       "       [-4.26203567e+00,  5.22463215e+00],\n",
       "       [ 2.40251280e+00, -9.09169654e+00],\n",
       "       [-1.43944134e+00,  7.11993778e-01],\n",
       "       [ 5.12665280e+00,  9.29196598e+00],\n",
       "       [ 1.84406727e+00, -5.86756775e+00],\n",
       "       [-6.06908245e+00, -9.63100342e-01],\n",
       "       [ 2.08687237e+00, -1.11828138e+00],\n",
       "       [ 5.85743514e+00,  6.36757414e+00],\n",
       "       [ 7.25021803e+00, -6.72747140e+00],\n",
       "       [ 4.95220983e+00,  5.83705567e+00],\n",
       "       [-7.97729485e+00, -2.02304573e+00],\n",
       "       [ 4.99328097e+00, -6.54579171e+00],\n",
       "       [ 2.64173757e+00,  6.57953149e+00],\n",
       "       [ 5.53733072e+00, -4.77229298e+00],\n",
       "       [-8.44817702e+00, -5.60086021e+00],\n",
       "       [ 4.90948003e-01, -3.95298555e+00],\n",
       "       [ 3.91139802e+00,  2.74565675e+00],\n",
       "       [-9.11954536e+00, -1.57808024e+00],\n",
       "       [ 3.13379929e+00,  8.12328086e+00],\n",
       "       [ 2.12219545e-01, -9.47976154e+00],\n",
       "       [-1.83412739e+00, -2.42535106e+00],\n",
       "       [-4.31512369e+00,  2.74792796e+00],\n",
       "       [ 6.60136454e+00, -3.18887831e+00],\n",
       "       [-7.90924669e+00, -2.85988778e+00],\n",
       "       [-2.25575472e+00,  8.64045054e+00],\n",
       "       [-6.73796571e+00, -2.93407676e-01],\n",
       "       [ 4.95012691e+00, -3.12872621e+00],\n",
       "       [ 8.83960490e+00,  1.18374431e-01],\n",
       "       [-7.04428470e+00, -1.92739342e+00],\n",
       "       [-3.26842376e-01, -2.96744415e+00],\n",
       "       [-5.60850664e+00, -2.67311382e+00],\n",
       "       [ 2.34739285e+00, -7.13786422e+00],\n",
       "       [-2.18459264e+00,  1.05818872e+00],\n",
       "       [-4.43329393e+00, -1.12008600e+00],\n",
       "       [-1.09203158e+00,  1.39849801e+00],\n",
       "       [-4.97644914e+00,  2.04181421e+00],\n",
       "       [-5.81665295e+00,  2.24395870e+00],\n",
       "       [ 5.41600053e+00, -7.21327857e+00],\n",
       "       [-3.74900543e+00,  4.57148137e+00],\n",
       "       [ 2.25740344e+00, -4.48705772e+00],\n",
       "       [-2.94177247e+00, -5.42306972e-01],\n",
       "       [ 6.50940639e-01, -4.91766669e+00],\n",
       "       [-1.44719632e+00,  9.26736738e+00],\n",
       "       [-1.89943345e+00,  4.15385363e+00],\n",
       "       [ 5.20553305e+00,  4.54080528e+00],\n",
       "       [-4.22127207e+00,  4.19813087e-01],\n",
       "       [ 7.32281358e+00,  4.25190606e+00],\n",
       "       [-8.50379475e+00,  2.45329673e+00],\n",
       "       [-7.31129809e+00,  4.64498934e+00],\n",
       "       [ 4.60151468e+00, -5.03053536e+00],\n",
       "       [-2.21738632e+00,  5.05734024e+00],\n",
       "       [ 6.66335095e+00,  1.14622874e+00],\n",
       "       [ 3.49793784e+00, -7.47753896e+00],\n",
       "       [ 7.05744137e+00, -5.66927420e+00],\n",
       "       [-4.87230682e+00,  3.63244252e+00],\n",
       "       [-3.81311081e+00,  6.47815390e+00],\n",
       "       [-1.83266599e-01, -8.40498921e+00],\n",
       "       [ 4.65933785e+00, -2.26753222e+00],\n",
       "       [-2.31250823e+00, -5.88272633e+00],\n",
       "       [-1.60868977e+00, -3.43440028e+00],\n",
       "       [-2.10985251e+00, -6.74397882e+00],\n",
       "       [-1.43903993e+00, -5.96135861e+00],\n",
       "       [ 3.95875838e+00, -2.75447948e+00],\n",
       "       [-5.74389596e-01, -6.19832363e+00],\n",
       "       [ 3.31316798e+00,  7.11313977e+00],\n",
       "       [ 3.63118556e+00, -1.97261016e-01],\n",
       "       [-1.02567056e+00, -2.80236531e+00],\n",
       "       [ 6.71782231e+00,  2.75432315e+00],\n",
       "       [-5.17684367e+00, -9.19941220e+00],\n",
       "       [ 4.26751941e+00,  4.08675184e+00],\n",
       "       [-2.79224605e+00, -9.90719680e+00],\n",
       "       [ 7.18511067e+00, -8.07311316e+00],\n",
       "       [ 3.77895550e+00,  5.62677089e+00],\n",
       "       [-3.51335949e+00, -1.45594351e+00],\n",
       "       [ 4.38259747e+00, -1.36719820e+00],\n",
       "       [ 7.87193412e+00,  6.34942193e+00],\n",
       "       [-1.87114019e+00, -1.55098031e+00],\n",
       "       [ 8.00407793e+00, -9.24280928e-01],\n",
       "       [-6.57441468e-01,  5.57787414e+00],\n",
       "       [-2.54729103e+00,  9.68421025e+00],\n",
       "       [-8.67995935e-01, -5.25704031e+00],\n",
       "       [-2.70953075e+00,  7.74527035e+00],\n",
       "       [ 8.05914363e+00, -5.73067934e+00],\n",
       "       [ 8.07484396e+00,  2.11974813e+00],\n",
       "       [-2.51901838e+00,  2.26285907e-01],\n",
       "       [ 9.12185062e+00,  4.71777563e+00],\n",
       "       [ 8.28821550e+00, -2.58706934e+00],\n",
       "       [-3.60996650e+00, -2.47732537e+00],\n",
       "       [ 6.86968587e+00,  6.68786971e+00],\n",
       "       [ 8.88343573e+00,  1.60476745e+00],\n",
       "       [-8.53340988e+00,  3.54609952e-01],\n",
       "       [-5.17909052e+00, -6.60824771e+00],\n",
       "       [ 8.03042799e+00,  4.62600707e-02],\n",
       "       [-8.36266589e+00,  4.55909846e+00],\n",
       "       [-5.61113994e+00,  4.55638609e+00],\n",
       "       [ 6.33316846e+00,  2.95517517e-01],\n",
       "       [-7.38038714e-01, -9.24755844e+00],\n",
       "       [-9.60823006e+00,  1.87782449e+00],\n",
       "       [ 3.40849533e-01,  7.83444878e-01],\n",
       "       [-3.94024225e-01, -6.23652023e-01],\n",
       "       [-2.02699272e-01, -7.07230448e+00],\n",
       "       [-5.30932181e+00,  7.74455921e+00],\n",
       "       [-2.76092918e+00, -8.05470352e+00],\n",
       "       [-5.14354872e+00,  5.31612550e+00],\n",
       "       [ 4.49176866e+00, -7.54890899e+00],\n",
       "       [ 2.54045188e+00, -3.65588956e+00],\n",
       "       [ 6.68828208e+00,  4.76976858e+00],\n",
       "       [-1.09610155e+00,  6.94243937e+00],\n",
       "       [ 2.06388069e+00, -2.82342815e-01],\n",
       "       [ 3.51907478e+00, -1.06970412e+00],\n",
       "       [-2.98790415e-02,  3.85770038e+00],\n",
       "       [ 9.28899310e+00, -2.38588102e+00],\n",
       "       [-4.44886595e+00, -6.02494390e+00],\n",
       "       [-6.87471226e+00,  2.29030462e+00],\n",
       "       [ 3.11948739e+00, -6.62545188e+00],\n",
       "       [-5.69603080e+00, -4.32744631e+00],\n",
       "       [-7.93866897e-01, -1.02752114e+01],\n",
       "       [ 8.50596097e+00,  2.96607831e+00],\n",
       "       [-1.01013709e+01, -2.82723757e-01],\n",
       "       [ 7.84445047e+00, -1.81161433e+00],\n",
       "       [-7.78858550e+00,  9.66958421e-01],\n",
       "       [-4.63341676e+00, -2.99570135e-01],\n",
       "       [ 1.05480612e+01, -9.01035258e-01],\n",
       "       [-6.62317694e+00,  6.80566480e+00],\n",
       "       [-4.37462122e+00, -8.55209188e+00],\n",
       "       [ 8.45745714e+00, -4.27737758e+00],\n",
       "       [-6.38158044e+00,  5.03972263e+00],\n",
       "       [ 7.57510224e+00,  1.23934570e+00],\n",
       "       [-3.36877209e+00,  2.30957571e+00],\n",
       "       [-3.42506624e+00, -8.60924926e+00],\n",
       "       [ 9.82404082e+00,  1.16825121e+00],\n",
       "       [ 4.97502114e-01,  7.26774464e+00],\n",
       "       [-3.06150296e+00, -6.29419248e+00],\n",
       "       [-5.23808649e+00, -5.71593077e+00],\n",
       "       [ 7.37645704e+00, -3.95114999e+00],\n",
       "       [ 3.06334202e+00,  1.63025243e+00],\n",
       "       [ 7.21367814e+00,  4.37833553e-01],\n",
       "       [-4.08353558e+00, -4.20918301e+00],\n",
       "       [ 3.02389415e+00,  8.62156518e-01],\n",
       "       [-7.41991633e+00,  3.67437635e+00],\n",
       "       [ 3.78352549e+00,  1.32100259e+00],\n",
       "       [-2.11996155e+00,  3.25949760e+00],\n",
       "       [-9.58527202e+00, -2.50020166e+00],\n",
       "       [ 1.77624065e+00, -3.67621687e+00],\n",
       "       [-5.85693072e+00, -2.56786626e-01],\n",
       "       [-3.79547723e+00,  1.11718644e+00],\n",
       "       [ 4.32647689e+00,  1.86648415e+00],\n",
       "       [ 1.01869213e+01,  2.63807152e+00],\n",
       "       [ 5.82307149e+00, -3.03375269e+00],\n",
       "       [-3.24897020e-01,  1.09171580e+00],\n",
       "       [-6.94004078e+00, -8.04277181e+00],\n",
       "       [ 5.29241073e-01,  8.90457499e+00],\n",
       "       [-5.70243123e+00,  6.86476507e+00],\n",
       "       [-6.49252960e+00, -4.54488597e+00],\n",
       "       [ 1.69215990e+00,  1.50991540e+00],\n",
       "       [ 3.31497512e+00, -3.29685192e+00],\n",
       "       [ 1.33206319e+00, -7.52874252e-01],\n",
       "       [-7.97676049e+00, -3.65358837e+00],\n",
       "       [ 1.97757868e+00,  9.80621437e+00],\n",
       "       [ 9.51957820e+00, -4.20269837e+00],\n",
       "       [ 6.35113610e+00, -1.68745577e+00],\n",
       "       [ 1.63253358e+00, -6.54190159e+00],\n",
       "       [ 7.12643610e+00, -2.14589904e+00],\n",
       "       [ 1.37046691e+00,  4.22232475e+00],\n",
       "       [-1.41522929e+00,  3.41356365e+00],\n",
       "       [ 2.46941312e-01, -6.34288218e+00],\n",
       "       [ 3.99348616e+00, -5.87307397e+00],\n",
       "       [ 2.92861642e+00,  5.11070895e+00],\n",
       "       [ 1.88233731e+00, -1.88626531e+00],\n",
       "       [ 2.66290584e+00,  3.53832645e+00],\n",
       "       [-2.68345622e+00,  3.60692737e+00],\n",
       "       [-4.42726559e+00,  5.93291387e+00],\n",
       "       [ 1.39810891e+00,  5.71984910e+00],\n",
       "       [-8.29442217e+00,  6.08869146e+00],\n",
       "       [ 6.45584277e-02,  9.74582311e+00],\n",
       "       [-8.32133195e+00, -1.22955514e+00],\n",
       "       [ 2.67953531e+00, -2.93082377e+00],\n",
       "       [-1.86967287e+00, -4.17646423e+00],\n",
       "       [ 1.67659089e+00,  2.23340699e+00],\n",
       "       [-1.17157148e+00,  6.16933349e+00],\n",
       "       [-8.70422957e+00, -3.29773034e+00],\n",
       "       [-7.06379893e+00, -6.09778594e+00],\n",
       "       [ 3.00703938e+00, -4.86215924e+00],\n",
       "       [-3.82816365e+00, -3.31218811e+00],\n",
       "       [ 4.28083163e+00,  8.62678179e+00],\n",
       "       [ 3.12601930e+00,  6.06662734e+00],\n",
       "       [-9.68212230e-01,  8.53145597e+00],\n",
       "       [-2.32086707e+00, -3.01658787e+00],\n",
       "       [ 2.40659848e-01,  3.07587658e+00],\n",
       "       [-1.79065441e+00,  1.86719994e-01],\n",
       "       [ 4.17696452e-01,  2.24342691e+00],\n",
       "       [-4.81710372e+00, -4.28663469e+00],\n",
       "       [ 2.98550845e+00,  9.72737275e+00],\n",
       "       [ 9.14302574e+00,  7.37109772e-01],\n",
       "       [ 9.09214764e-01,  9.66769990e+00],\n",
       "       [-9.16685579e+00, -4.88940059e+00],\n",
       "       [ 5.05334342e+00, -9.56340731e-01],\n",
       "       [ 8.75136109e-01,  1.29405631e+00],\n",
       "       [-1.01302567e+01,  8.59961311e-01],\n",
       "       [ 5.07053174e+00,  7.27178625e-01],\n",
       "       [ 5.52891372e+00,  3.49672182e+00],\n",
       "       [-2.99247201e+00,  8.95885959e-01],\n",
       "       [ 1.98983005e+00, -7.97704851e+00],\n",
       "       [ 8.23729803e-01,  2.96167770e-01],\n",
       "       [-1.51184739e+00,  1.02121364e+01],\n",
       "       [ 4.94907860e+00,  3.74497015e+00],\n",
       "       [-2.65421033e+00,  4.30729425e+00],\n",
       "       [ 2.98044204e+00,  1.11446001e-01],\n",
       "       [ 5.81796206e+00,  2.62196784e+00],\n",
       "       [ 3.88073305e+00,  3.37196599e+00],\n",
       "       [ 5.34194508e+00, -5.63639634e+00],\n",
       "       [ 4.67873003e+00, -4.21205261e-01],\n",
       "       [ 2.40315309e+00, -6.21934695e+00],\n",
       "       [ 5.41775620e-01, -3.90499843e-01],\n",
       "       [-2.01135157e-02, -3.47145399e+00],\n",
       "       [-2.70662847e+00, -5.29388301e+00],\n",
       "       [-2.91072346e+00,  2.95381936e+00],\n",
       "       [ 7.85848035e-02, -1.14341224e+00],\n",
       "       [ 4.34358614e+00,  6.38521042e+00],\n",
       "       [-7.27907988e+00, -3.05319161e+00],\n",
       "       [-1.17557656e+00,  4.02410459e+00],\n",
       "       [-4.84398215e+00,  6.84434823e+00],\n",
       "       [ 5.27441766e+00, -3.44515722e-01],\n",
       "       [-6.26147007e+00,  1.85100147e+00],\n",
       "       [-6.67215284e+00, -1.15585529e+00],\n",
       "       [ 5.34838298e+00, -7.85902335e+00],\n",
       "       [ 2.42372590e+00,  1.70911612e+00],\n",
       "       [-6.40323386e+00,  1.18989392e+00],\n",
       "       [ 6.22788566e+00,  7.24331604e+00],\n",
       "       [-3.65018476e+00, -6.96864517e+00],\n",
       "       [ 3.47828223e+00,  3.95381355e+00],\n",
       "       [-5.80650277e+00, -7.08131010e+00],\n",
       "       [ 6.67274894e+00, -3.76466675e+00],\n",
       "       [ 6.20710595e+00, -8.70622857e-01],\n",
       "       [-7.16748856e+00, -4.89260726e+00],\n",
       "       [-8.02913471e-01,  6.90562337e-01],\n",
       "       [ 7.79515976e+00,  4.55573396e+00],\n",
       "       [-5.10191356e+00, -5.99281701e-01]])"
      ]
     },
     "execution_count": 8,
     "metadata": {},
     "output_type": "execute_result"
    }
   ],
   "source": [
    "cellCluster.xy"
   ]
  },
  {
   "cell_type": "markdown",
   "metadata": {},
   "source": [
    "### Mehrere aufeinanderfolgende Simulationen"
   ]
  },
  {
   "cell_type": "code",
   "execution_count": 7,
   "metadata": {},
   "outputs": [
    {
     "data": {
      "text/plain": [
       "<Figure size 1080x864 with 0 Axes>"
      ]
     },
     "metadata": {},
     "output_type": "display_data"
    },
    {
     "data": {
      "image/png": "[encoded data removed]",
      "text/plain": [
       "<Figure size 432x288 with 1 Axes>"
      ]
     },
     "metadata": {
      "needs_background": "light"
     },
     "output_type": "display_data"
    },
    {
     "data": {
      "image/png": "[encoded data removed]",
      "text/plain": [
       "<Figure size 432x288 with 1 Axes>"
      ]
     },
     "metadata": {
      "needs_background": "light"
     },
     "output_type": "display_data"
    },
    {
     "data": {
      "image/png": "[encoded data removed]",
      "text/plain": [
       "<Figure size 432x288 with 1 Axes>"
      ]
     },
     "metadata": {
      "needs_background": "light"
     },
     "output_type": "display_data"
    },
    {
     "data": {
      "image/png": "[encoded data removed]",
      "text/plain": [
       "<Figure size 432x288 with 1 Axes>"
      ]
     },
     "metadata": {
      "needs_background": "light"
     },
     "output_type": "display_data"
    },
    {
     "data": {
      "image/png": "[encoded data removed]",
      "text/plain": [
       "<Figure size 432x288 with 1 Axes>"
      ]
     },
     "metadata": {
      "needs_background": "light"
     },
     "output_type": "display_data"
    },
    {
     "data": {
      "image/png": "[encoded data removed]",
      "text/plain": [
       "<Figure size 432x288 with 1 Axes>"
      ]
     },
     "metadata": {
      "needs_background": "light"
     },
     "output_type": "display_data"
    },
    {
     "data": {
      "image/png": "[encoded data removed]",
      "text/plain": [
       "<Figure size 432x288 with 1 Axes>"
      ]
     },
     "metadata": {
      "needs_background": "light"
     },
     "output_type": "display_data"
    },
    {
     "data": {
      "image/png": "[encoded data removed]",
      "text/plain": [
       "<Figure size 432x288 with 1 Axes>"
      ]
     },
     "metadata": {
      "needs_background": "light"
     },
     "output_type": "display_data"
    },
    {
     "data": {
      "image/png": "[encoded data removed]",
      "text/plain": [
       "<Figure size 432x288 with 1 Axes>"
      ]
     },
     "metadata": {
      "needs_background": "light"
     },
     "output_type": "display_data"
    }
   ],
   "source": [
    "from Tissue2D import Tissue\n",
    "import matplotlib.pyplot as plt\n",
    "\n",
    "time = 2\n",
    "\n",
    "cellCluster = Tissue()\n",
    "\n",
    "plt.figure(figsize=(15,12))\n",
    "for i in range(9):\n",
    "    # Run simulation for certain amount of time\n",
    "    cellCluster.evolution(T=time)\n",
    "    \n",
    "    # Plot\n",
    "    #plt.subplot(3,3,i+1)\n",
    "    cellCluster.cellPlot(size=2,alphaValue=1)\n",
    "    plt.title(str((i+1)*time)+' hours')"
   ]
  },
  {
   "cell_type": "code",
   "execution_count": null,
   "metadata": {},
   "outputs": [],
   "source": []
  }
 ],
 "metadata": {
  "kernelspec": {
   "display_name": "Python 3 (ipykernel)",
   "language": "python",
   "name": "python3"
  },
  "language_info": {
   "codemirror_mode": {
    "name": "ipython",
    "version": 3
   },
   "file_extension": ".py",
   "mimetype": "text/x-python",
   "name": "python",
   "nbconvert_exporter": "python",
   "pygments_lexer": "ipython3",
   "version": "3.9.12"
  }
 },
 "nbformat": 4,
 "nbformat_minor": 2
}
