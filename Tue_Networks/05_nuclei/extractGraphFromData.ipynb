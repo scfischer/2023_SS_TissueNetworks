{
 "cells": [
  {
   "cell_type": "markdown",
   "id": "ef2c74b3",
   "metadata": {},
   "source": [
    "### 1. Import required packages"
   ]
  },
  {
   "cell_type": "code",
   "execution_count": null,
   "id": "ff32652b",
   "metadata": {},
   "outputs": [],
   "source": [
    "import pandas as pd\n",
    "import networkx as nx\n",
    "import matplotlib.pyplot as plt\n",
    "import numpy as np\n",
    "from scipy.spatial.distance import cdist"
   ]
  },
  {
   "cell_type": "markdown",
   "id": "6bf5b50b",
   "metadata": {},
   "source": [
    "### 2. Import data"
   ]
  },
  {
   "cell_type": "code",
   "execution_count": null,
   "id": "71fdf36b",
   "metadata": {},
   "outputs": [],
   "source": [
    "nucleiSegmentData=pd.read_csv(\"NucleiCoord.csv\")"
   ]
  },
  {
   "cell_type": "code",
   "execution_count": null,
   "id": "c70dab44",
   "metadata": {},
   "outputs": [],
   "source": [
    "type(nucleiSegmentData)"
   ]
  },
  {
   "cell_type": "code",
   "execution_count": null,
   "id": "8e24b27c",
   "metadata": {},
   "outputs": [],
   "source": [
    "nucleiSegmentData.head()"
   ]
  },
  {
   "cell_type": "markdown",
   "id": "1bfd2576",
   "metadata": {},
   "source": [
    "### 3. Define nodes"
   ]
  },
  {
   "cell_type": "code",
   "execution_count": null,
   "id": "8581466b",
   "metadata": {},
   "outputs": [],
   "source": [
    "nodes=nucleiSegmentData.index"
   ]
  },
  {
   "cell_type": "code",
   "execution_count": null,
   "id": "41aa8d6c",
   "metadata": {},
   "outputs": [],
   "source": [
    "nodes"
   ]
  },
  {
   "cell_type": "markdown",
   "id": "daeb524e",
   "metadata": {},
   "source": [
    "### 4. Define edges based on distance between nodes"
   ]
  },
  {
   "cell_type": "code",
   "execution_count": null,
   "id": "833016fd",
   "metadata": {},
   "outputs": [],
   "source": [
    "numCells=len(nodes)"
   ]
  },
  {
   "cell_type": "code",
   "execution_count": null,
   "id": "526796a4",
   "metadata": {},
   "outputs": [],
   "source": [
    "df_xyCoords=nucleiSegmentData[[\"X\",\"Y\"]]"
   ]
  },
  {
   "cell_type": "code",
   "execution_count": null,
   "id": "ad9c0785",
   "metadata": {},
   "outputs": [],
   "source": [
    "df_xyCoords.head()"
   ]
  },
  {
   "cell_type": "code",
   "execution_count": null,
   "id": "c8a6fd9e",
   "metadata": {},
   "outputs": [],
   "source": [
    "xyCoords=np.array(df_xyCoords)"
   ]
  },
  {
   "cell_type": "code",
   "execution_count": null,
   "id": "c3d0478b",
   "metadata": {},
   "outputs": [],
   "source": [
    "dist=cdist(xyCoords,xyCoords,metric='euclidean')"
   ]
  },
  {
   "cell_type": "code",
   "execution_count": null,
   "id": "2da8bf71",
   "metadata": {},
   "outputs": [],
   "source": [
    "thresh=40"
   ]
  },
  {
   "cell_type": "code",
   "execution_count": null,
   "id": "1084d068",
   "metadata": {},
   "outputs": [],
   "source": [
    "adjMatrix=np.zeros((numCells,numCells))\n",
    "for i in nodes:\n",
    "    for j in nodes:\n",
    "        if i!=j and dist[i,j]<thresh:\n",
    "            adjMatrix[i,j]=1        "
   ]
  },
  {
   "cell_type": "markdown",
   "id": "3b46207c",
   "metadata": {},
   "source": [
    "### 5. Generate and display graph"
   ]
  },
  {
   "cell_type": "code",
   "execution_count": null,
   "id": "4cd676d0",
   "metadata": {},
   "outputs": [],
   "source": [
    "G=nx.from_numpy_matrix(adjMatrix)"
   ]
  },
  {
   "cell_type": "code",
   "execution_count": null,
   "id": "e5abe21b",
   "metadata": {},
   "outputs": [],
   "source": [
    "nx.draw(G, with_labels=True)\n",
    "plt.show()"
   ]
  },
  {
   "cell_type": "code",
   "execution_count": null,
   "id": "940a60ca",
   "metadata": {},
   "outputs": [],
   "source": []
  }
 ],
 "metadata": {
  "kernelspec": {
   "display_name": "Python 3 (ipykernel)",
   "language": "python",
   "name": "python3"
  },
  "language_info": {
   "codemirror_mode": {
    "name": "ipython",
    "version": 3
   },
   "file_extension": ".py",
   "mimetype": "text/x-python",
   "name": "python",
   "nbconvert_exporter": "python",
   "pygments_lexer": "ipython3",
   "version": "3.9.12"
  }
 },
 "nbformat": 4,
 "nbformat_minor": 5
}
