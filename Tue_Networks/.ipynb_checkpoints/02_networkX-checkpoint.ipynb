{
 "cells": [
  {
   "cell_type": "markdown",
   "metadata": {},
   "source": [
    "# Statistik für Biologen - Übung 10"
   ]
  },
  {
   "cell_type": "markdown",
   "metadata": {},
   "source": [
    "### AG Supramolekulare und zelluläre Simulationen (Prof. Fischer), CCTB, Fakultät für Biologie, Universität Würzburg\n",
    "Fragen und Anregungen gerne an sabine.fischer@uni-wuerzburg.de"
   ]
  },
  {
   "cell_type": "markdown",
   "metadata": {},
   "source": [
    "## Netzwerk Analyse mit networkx\n",
    "<p style='text-align: justify;'>Netzwerk Analysen wird schwieriger je größer das Netzwerk ist, nennenswerte/interessante Zusammenhänge lassen sich jedoch nur aus großen Netzwerken ableiten. Es ist somit nötig die Rechenleistung eines Computers zu nutzen. Python bietet mit dem Paket networkx ein nutzerfreundliches Paket an Funktionen zur Erstellung und Analyse von Graphen (Netzwerken).</p>\n",
    "\n",
    "### Einen Graphen erstellen:\n",
    "\n",
    "<p style='text-align: justify;'>Das Erstellen eines Graphen mit networkx ist vergleichsweise simpel und benötigt nur wenige Befehle:</p>\n",
    "\n",
    "```Python\n",
    "G = nx.Graph()\n",
    "#erstellt einen leeren ungerichteten Graphen\n",
    "G = nx.DiGraph()\n",
    "#erstellt einen leeren gerichteten Graphen\n",
    "\n",
    "G.add_node(1)\n",
    "G.add_nodes_from([2,3])\n",
    "#fügen einzelne Knoten oder eine Liste von Knoten hinzu\n",
    "\n",
    "G.add_edge(1,2)\n",
    "G.add_edges_from([(1,2),(1,3)])\n",
    "#fügen Kanten oder eine Liste von Kanten hinzu\n",
    "\n",
    "nx.draw(G, with_labels=True)\n",
    "plt.show()\n",
    "#zeigt den Graphen an\n",
    "\n",
    "G.remove_node(1)\n",
    "G.remove_edge(1,2)\n",
    "#löscht einen Knoten oder eine Kante\n",
    "\n",
    "G.clear()\n",
    "#löscht den gesamten Inhalt des Graphen\n",
    "```\n",
    "### Aufgaben:\n",
    "> - Importiere networkx als nx und matplotlib.pyplot als plt\n",
    "- Erstelle einen Graphen mit 9 Knoten und 9 Kanten, lasse ihn anzeigen"
   ]
  },
  {
   "cell_type": "code",
   "execution_count": null,
   "metadata": {},
   "outputs": [],
   "source": []
  },
  {
   "cell_type": "markdown",
   "metadata": {},
   "source": [
    "### Graphen Parameter abfragen:\n",
    "<p style='text-align: justify;'>Bei einem Netzwerk dieser Größe lassen sich alle Parameter noch einfach überblicken, es ist leicht zu erkennen wie die Knoten verknüpft sind oder generell wie viele Knoten und Kanten vorkommen.\n",
    "<br>Bei großen Graphen ist dies graphisch meist nicht mehr möglich, deshalb bietet networkx die Möglichkeit Knoten und Kanten abzufragen, im Rahmen eines Skriptes können diese Funktionen auch für Rechenoperationen genutzt werden:</p>\n",
    "\n",
    "```Python\n",
    "G.nodes() #alle enthaltenen Knoten\n",
    "G.edges() #alle enthaltenen Kanten\n",
    "G.edges(1) #alle von Knoten 1 ausgehende Kanten\n",
    "G.degree() #Anzahl ausgehender Kanten für jeden Knoten\n",
    "G.degree(1) #Anzahl von Knoten 1 ausgehender Kanten\n",
    "```\n",
    "<p style='text-align: justify;'>\n",
    "Es können statt einzelner Knoten auch Listen von Knoten an die Funktionen übergeben werden.\n",
    "</p>    \n",
    "\n",
    "```Python\n",
    "G.adj[1] #alle mit Knoten 1 verknüpften Knoten\n",
    "list(g.adjacency()) \n",
    "#zeigt alle Knoten und deren Nachbarn an\n",
    "```\n",
    "<p style='text-align: justify;'>\n",
    "Neben diesen Funktionen gibt es noch weiter Funktionen, um grundlegende Eigenschaften eines Graphen abzufragen, weitere Informationen findet ihr unter:</p>\n",
    "\n",
    "https://networkx.github.io/documentation/stable/reference/functions.html\n",
    "\n",
    "### Aufgaben:\n",
    "> - Teste die Funktionen mit dem zuvor erstellten Graphen"
   ]
  },
  {
   "cell_type": "code",
   "execution_count": null,
   "metadata": {},
   "outputs": [],
   "source": []
  },
  {
   "cell_type": "markdown",
   "metadata": {},
   "source": [
    "### Attribute:\n",
    "<p style='text-align: justify;'>Graphen, Knoten und Kanten können Attribute zugeordnet werden, so kann man z.B. definieren, dass eine Verknüpfung zwischen zwei Knoten eine höhere Gewichtung (weight) hat als eine andere. <br>Entweder ordnet man den Kanten bereits bei deren Erstellung ein weight zu, oder man kann nachträglich beliebige Attribute hinzufügen.</p>\n",
    "\n",
    "```Python\n",
    "G.add_weighted_edges_from([(1,2, 0.25),(2,3, 0.5)])\n",
    "#die ersten beiden Zahlen definieren die Kante, die dritte die Gewichtung\n",
    "\n",
    "G = nx.Graph(Typ=\"Prokaryot\") \n",
    "#ordnet dem Graphen bei Erstellung ein Attribut zu \n",
    "G.graph['Typ'] = \"Eukaryot\"\n",
    "#ordnet dem Graphen nachträglich ein Attribut zu\n",
    "\n",
    "G.nodes[1]['Größe'] = \"5\"\n",
    "#ordnet einem Knoten ein Attribut zu\n",
    "G.add_nodes_from([6,7,8],Attribut = 10) #Attribut steht hier für eine beliebige Variable\n",
    "#ordnet einer Liste von Knoten ein Attribut zu\n",
    "\n",
    "G.edges[1,2]['Distanz'] = \"2\"\n",
    "#ordnet einer Kante ein Attribut zu\n",
    "G.add_edgess_from([(6,3),(7,8),(8,9)],Attribut = 10) #Attribut steht hier für eine beliebige Variable\n",
    "#ordnet einer Liste von Kanten ein Attribut zu\n",
    "```\n",
    "<p style='text-align: justify;'>Die Attribute von Graphen, Knoten und Kanten werden bei machen Funktionen automatisch mit angezeigt. Sie können aber auch gezielt je Klasse angezeigt werden.</p>\n",
    "\n",
    "```Python\n",
    "G.nodes.data()\n",
    "G.edges.data()\n",
    "G.graph()\n",
    "#zeigen jeweils die Attribute der Klassen an\n",
    "```\n",
    "\n",
    "### Aufgaben:\n",
    "> - Ordne dem zuvor erstellten Graphen, seinen Knoten und Kanten Attribute zu\n",
    "- Nutze erneut die Funktion `list(g.adjacency())`\n",
    "- Lass dir die Attribute anzeige"
   ]
  },
  {
   "cell_type": "code",
   "execution_count": null,
   "metadata": {},
   "outputs": [],
   "source": []
  },
  {
   "cell_type": "markdown",
   "metadata": {},
   "source": [
    "### Graphen schneller erstellen / laden:\n",
    "<p style='text-align: justify;'>Um schnell größere Netzwerke zu laden können ganze Listen von Knoten und Kanten geladen werden oder Graphen direkt aus einer Datei oder einem Dataframe erstellt werden.</p>\n",
    "\n",
    "```Python\n",
    "G = nx.from_pandas_edgelist(df, source = 'Spalte1', target = 'Spalte2', edge_attr = ['Spalte3', 'Spalte4'], create_using = nx.DiGraph())\n",
    "```\n",
    "<p style='text-align: justify;'>(erstellt einen gerichteten Graphen mit Kanten von Knoten aus Spalte1 zu Knoten aus Spalte2 und ordnet den Kanten den jeweiligen Wert aus den Spalten 3 und 4 als Attribut zu)</p>\n",
    "\n",
    "### Aufgaben:\n",
    "> - Importiere das Paket Pandas als pd\n",
    "- Lade die Datei: Routen.csv in eine Variable\n",
    "- Lass dir den Kopf des Dataframe anzeigen (df.head())"
   ]
  },
  {
   "cell_type": "code",
   "execution_count": null,
   "metadata": {},
   "outputs": [],
   "source": []
  },
  {
   "cell_type": "markdown",
   "metadata": {},
   "source": [
    "> - Nutze den Dataframe um einen gerichteten Graphen, dessen Kanten die Attribute Anzahl und Distanz haben, zu erstellen\n",
    "- Lass alle Knoten und deren Nachbarn anzeigen"
   ]
  },
  {
   "cell_type": "code",
   "execution_count": null,
   "metadata": {},
   "outputs": [],
   "source": []
  },
  {
   "cell_type": "markdown",
   "metadata": {},
   "source": [
    "> - Lass den Graphen anzeigen"
   ]
  },
  {
   "cell_type": "code",
   "execution_count": null,
   "metadata": {},
   "outputs": [],
   "source": []
  },
  {
   "cell_type": "markdown",
   "metadata": {},
   "source": [
    "### Analyse Algorithmen:\n",
    "<p style='text-align: justify;'>Neben den Möglichkeiten zur Abfrage von Grundlegenden Eigenschaften eines Graphen bietet networkx viele integrierte Algorithmen zur Analyse von Graphen, im Folgenden werden nur einige wenige behandelt, weitere Informationen zu den einzelnen Algorithmen sowie weiteren Möglichkeiten von networkx unter:</p>\n",
    "\n",
    "https://networkx.github.io/documentation/stable/reference/algorithms/index.html\n",
    "\n",
    "```Python\n",
    "nx.density(G) \n",
    "#Wert zw. 0/1, repräsentiert die Vernetzung des Graphen\n",
    "nx.average_node_connectivity(G) \n",
    "#Wert repräsentiert die Stabilität des Graphen\n",
    "\n",
    "nx.has_path(G, Knoten1, Knoten2) \n",
    "#besteht eine Verbindung zwischen den Knoten?\n",
    "nx.shortest_path(G,weight='Distanz') \n",
    "#listet alle kürzesten Wege zwischen den Knoten des Graphen auf (weight ist optional)\n",
    "nx.shortest_path(G, Knoten1, Knoten2,weight='Distanz') \n",
    "#kürzester Weg zwischen Knoten1 und Knoten2\n",
    "nx.average_shortest_path_length(G, weigt='Distanz') \n",
    "#Durchschnittliche Länge der kürzesten Wege (weight ist optional)\n",
    "\n",
    "nx.degree_centrality(G) \n",
    "#Listet für Jeden Knoten dessen Bedeutung im Netzwerk auf (Anzahl an ausgehenden Kanten)\n",
    "nx.eigenvector_centrality_numpy(G,weight='Distanz') \n",
    "#Listet für Jeden Knoten dessen Bedeutung im Netzwerk auf (Einfluss auf das Netzwerk, sowie Bedeutung der benachbarten Knoten)\n",
    "```\n",
    "\n",
    "### Aufgaben:\n",
    "> - Analysiere den zu Beginn erstellten Graphen"
   ]
  },
  {
   "cell_type": "code",
   "execution_count": null,
   "metadata": {},
   "outputs": [],
   "source": []
  },
  {
   "cell_type": "markdown",
   "metadata": {},
   "source": [
    "> - Analysiere den Flugrouten-Graphen, finde die wichtigsten Knoten im Netzwerk und überlege wie man am schnellsten im Netzwerk reisen kann."
   ]
  },
  {
   "cell_type": "code",
   "execution_count": null,
   "metadata": {},
   "outputs": [],
   "source": []
  },
  {
   "cell_type": "markdown",
   "metadata": {},
   "source": [
    "## Weitere Anwendungen:\n",
    "<p style='text-align: justify;'>Abschließend soll noch eine Funktion für Baum-Graphen, wie z.B. phylogenetische Bäume vorgestellt werden. Mit diesem Algorithmus kann schnell und einfach der letzte gemeinsame Vorfahre (lca) zweier Knoten des \"Baums\" gefunden werden:</p>\n",
    "\n",
    "```Python\n",
    "nx.lowest_common_ancestor(G, Knoten1, Knoten2)\n",
    "```\n",
    "### Aufgaben:\n",
    "> - Führe die folgende Codezelle aus um einen Graphen zu laden\n",
    "- Suche den lca verschiedener Knoten Paare in diesem Graphen"
   ]
  },
  {
   "cell_type": "code",
   "execution_count": null,
   "metadata": {},
   "outputs": [],
   "source": [
    "baum = nx.DiGraph()\n",
    "baum.add_nodes_from([1,2,3,4,5,6,7,8,9,10,11,12,13,14,15,16,17,18,19,20])\n",
    "baum.add_edges_from([(1,2),(2,3),(2,4),(3,5),(4,6),(5,7),(5,9),(5,11),(6,8),(6,10),(7,13),(7,15),(9,17),(9,19),(8,12),(10,14),(12,16),(12,18),(16,20)])\n",
    "nx.draw(baum,with_labels=True)\n",
    "plt.show()"
   ]
  },
  {
   "cell_type": "code",
   "execution_count": null,
   "metadata": {},
   "outputs": [],
   "source": []
  },
  {
   "cell_type": "markdown",
   "metadata": {},
   "source": [
    "## Für die Schnellen:\n",
    "\n",
    "<p style='text-align: justify;'>Oft ist einer der umständlichsten Teile der Daten Analyse die Vorbereitung der Daten. Stehen die Daten nicht im benötigten Format zur Verfügung können sie nicht analysiert werden und müssen erst aufgearbeitet werden.</p>\n",
    "\n",
    "### Aufgaben:\n",
    "> - Gehe auf https://openflights.org/data.html und informiere dich über die Rohdaten\n",
    "- erstelle eine Liste mit den Spalten Namen\n",
    "- Lade die Rohdaten von OpenFlight direkt als Dataframe mit den Zuvor festgelegten Spalten Namen: https://raw.githubusercontent.com/jpatokal/openflights/master/data/airports.dat\n",
    "- Erstelle einen neuen Dataframe, welcher nur die Flughäfen in Deutschland und nur die Spalten Name, Lat, Long, IATA und ICAO enthält\n",
    "- Entferne alle Zeilen, welche keine korrekte IATA enthalten"
   ]
  },
  {
   "cell_type": "code",
   "execution_count": null,
   "metadata": {},
   "outputs": [],
   "source": []
  },
  {
   "cell_type": "markdown",
   "metadata": {},
   "source": [
    "### Für die ganz Schnellen:\n",
    "> - Erstelle ein Dictionary mit der geographischen Position jedes Flughafens\n",
    "-  Lass den Flugrouten-Graphen so darstellen, dass die Knoten in der zueinander „geographisch korrekten“ Position dargestellt werden "
   ]
  },
  {
   "cell_type": "code",
   "execution_count": null,
   "metadata": {},
   "outputs": [],
   "source": []
  },
  {
   "cell_type": "code",
   "execution_count": null,
   "metadata": {},
   "outputs": [],
   "source": []
  }
 ],
 "metadata": {
  "kernelspec": {
   "display_name": "Python 3 (ipykernel)",
   "language": "python",
   "name": "python3"
  },
  "language_info": {
   "codemirror_mode": {
    "name": "ipython",
    "version": 3
   },
   "file_extension": ".py",
   "mimetype": "text/x-python",
   "name": "python",
   "nbconvert_exporter": "python",
   "pygments_lexer": "ipython3",
   "version": "3.9.12"
  }
 },
 "nbformat": 4,
 "nbformat_minor": 2
}
