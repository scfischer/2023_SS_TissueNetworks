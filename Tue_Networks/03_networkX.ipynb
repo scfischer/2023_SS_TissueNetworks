{
 "cells": [
  {
   "cell_type": "markdown",
   "metadata": {},
   "source": [
    "## Network analysis with networkx\n",
    "<p style='text-align: justify;'>Network analyses become more difficult the larger the network is, but noteworthy/interesting correlations can only be derived from large networks. It is therefore necessary to use the computing power of a computer. With the package networkx, Python offers a user-friendly package of functions for creating and analysing graphs (networks).</p>\n",
    "\n",
    "### Generating a graph:\n",
    "\n",
    "<p style='text-align: justify;'>Creating a graph with networkx is comparatively simple and requires only a few commands:</p>\n",
    "\n",
    "```Python\n",
    "G = nx.Graph()\n",
    "#generates an empty undirected graph\n",
    "G = nx.DiGraph()\n",
    "#generates an empty directed graph\n",
    "\n",
    "G.add_node(1)\n",
    "G.add_nodes_from([2,3])\n",
    "#add single node or a list of nodes\n",
    "\n",
    "G.add_edge(1,2)\n",
    "G.add_edges_from([(1,2),(1,3)])\n",
    "#add single edge or a list of edges\n",
    "\n",
    "nx.draw(G, with_labels=True)\n",
    "plt.show()\n",
    "#show teh graph\n",
    "\n",
    "G.remove_node(1)\n",
    "G.remove_edge(1,2)\n",
    "#removes a node or an edge\n",
    "\n",
    "G.clear()\n",
    "#removes the whole content of the graph\n",
    "```\n",
    "### Exercise:\n",
    "> - Import networkx as nx and matplotlib.pyplot as plt\n",
    "> - Generate a graph with 9 nodes and nine edges and display it."
   ]
  },
  {
   "cell_type": "code",
   "execution_count": null,
   "metadata": {},
   "outputs": [],
   "source": []
  },
  {
   "cell_type": "markdown",
   "metadata": {},
   "source": [
    "### Query graph parameters:\n",
    "<p style='text-align: justify;'>With a network of this size, all parameters are still easy to keep track of, it is easy to see how the nodes are linked or generally how many nodes and edges occur.\n",
    "<br>With large graphs, this is usually no longer possible graphically, which is why networkx offers the possibility of querying nodes and edges; within the framework of a script, these functions can also be used for arithmetic operations:</p>\n",
    "\n",
    "```Python\n",
    "G.nodes() #all nodes\n",
    "G.edges() #all edges\n",
    "G.edges(1) #all edges starting from node 1\n",
    "G.degree() #number of edges starting from any node\n",
    "G.degree(1) #number of edges starting from node 1\n",
    "```\n",
    "<p style='text-align: justify;'>\n",
    "Instead of individual nodes, lists of nodes can also be passed to the functions.\n",
    "</p>    \n",
    "\n",
    "```Python\n",
    "G.adj[1] #all nodes connected to node 1\n",
    "list(g.adjacency()) \n",
    "#all nodes and their neighbours\n",
    "```\n",
    "<p style='text-align: justify;'>\n",
    "In addition to these functions, there are other functions to query basic properties of a graph, for more information see:</p>\n",
    "\n",
    "https://networkx.github.io/documentation/stable/reference/functions.html\n",
    "\n",
    "### Exercise:\n",
    "> - Test the functions with the previously created graph."
   ]
  },
  {
   "cell_type": "code",
   "execution_count": null,
   "metadata": {},
   "outputs": [],
   "source": []
  },
  {
   "cell_type": "markdown",
   "metadata": {},
   "source": [
    "### Attributes:\n",
    "<p style='text-align: justify;'>Attributes can be assigned to graphs, nodes and edges, e.g. one can define that a link between two nodes has a higher weight than another. <br>Either you assign a weight to the edges when you create them, or you can add any attributes later.</p>\n",
    "\n",
    "```Python\n",
    "G.add_weighted_edges_from([(1,2, 0.25),(2,3, 0.5)])\n",
    "#the first two numbers define the edge, the third the weighting\n",
    "\n",
    "G = nx.Graph(Typ=\"Prokaryot\") \n",
    "#assigns an attribute to the graph when it is created \n",
    "G.graph['Typ'] = \"Eukaryot\"\n",
    "#assigns an attribute to the graph afterwards\n",
    "\n",
    "G.nodes[1]['Größe'] = \"5\"\n",
    "#assigns an attribute to a node\n",
    "G.add_nodes_from([6,7,8],Attribute = 10) #Attribute stands for any variable\n",
    "#assigns an attribute to a list of nodes\n",
    "\n",
    "G.edges[1,2]['Distanz'] = \"2\"\n",
    "#assigns an attribute to an edge\n",
    "G.add_edgess_from([(6,3),(7,8),(8,9)],Attribute = 10) #Attribute stands for any variable\n",
    "#assigns an attribute to a list of edges\n",
    "```\n",
    "<p style='text-align: justify;'>The attributes of graphs, nodes and edges are automatically displayed with functions. However, they can also be displayed specifically for each class.</p>\n",
    "\n",
    "```Python\n",
    "G.nodes.data()\n",
    "G.edges.data()\n",
    "G.graph()\n",
    "#show the attributes of the classes\n",
    "```\n",
    "\n",
    "### Exercises:\n",
    "> - assign attributes to the previously created graph, its nodes and edges\n",
    "> - use again the function `list(g.adjacency())`\n",
    "> - disply the attributes"
   ]
  },
  {
   "cell_type": "code",
   "execution_count": null,
   "metadata": {},
   "outputs": [],
   "source": []
  },
  {
   "cell_type": "markdown",
   "metadata": {},
   "source": [
    "### Create / load graphs faster:\n",
    "<p style='text-align: justify;'>To quickly load larger networks, entire lists of nodes and edges can be loaded or graphs can be created directly from a file or dataframe.</p>\n",
    "\n",
    "```Python\n",
    "G = nx.from_pandas_edgelist(df, source = 'Spalte1', target = 'Spalte2', edge_attr = ['Spalte3', 'Spalte4'], create_using = nx.DiGraph())\n",
    "```\n",
    "<p style='text-align: justify;'>(creates a directed graph with edges from nodes from column1 to nodes from column2 and assigns the respective value from columns 3 and 4 as attribute to the edges)</p>\n",
    "\n",
    "### Exercises:\n",
    "> - import the package Pandas as pd\n",
    "> - load the file: Routen.csv in a variable\n",
    "> - display the head of the dataframe (df.head())"
   ]
  },
  {
   "cell_type": "code",
   "execution_count": null,
   "metadata": {},
   "outputs": [],
   "source": []
  },
  {
   "cell_type": "markdown",
   "metadata": {},
   "source": [
    "> - Use the dataframe to create a directed graph whose edges have the attributes number and distance.\n",
    "> - Display all nodes and their neighbours."
   ]
  },
  {
   "cell_type": "code",
   "execution_count": null,
   "metadata": {},
   "outputs": [],
   "source": []
  },
  {
   "cell_type": "markdown",
   "metadata": {},
   "source": [
    "> - Display the graph."
   ]
  },
  {
   "cell_type": "code",
   "execution_count": null,
   "metadata": {},
   "outputs": [],
   "source": []
  },
  {
   "cell_type": "markdown",
   "metadata": {},
   "source": [
    "### Algorithms for analysis:\n",
    "<p style='text-align: justify;'>In addition to the possibilities for querying basic properties of a graph, networkx offers many integrated algorithms for the analysis of graphs. In the following, only a few are discussed. Further information on the individual algorithms as well as other possibilities of networkx can be found under:</p>\n",
    "\n",
    "https://networkx.github.io/documentation/stable/reference/algorithms/index.html\n",
    "\n",
    "```Python\n",
    "nx.density(G) \n",
    "#Value between 0/1, represents the connectedness of a graph\n",
    "nx.average_node_connectivity(G) \n",
    "#represents teh stability of a graph\n",
    "\n",
    "nx.has_path(G, Knoten1, Knoten2) \n",
    "#Is there a path between the two nodes?\n",
    "nx.shortest_path(G, Knoten1, Knoten2,weight='Distanz') \n",
    "#shortest path between node 1 and node 2\n",
    "nx.shortest_path(G,weight='Distanz') \n",
    "#List all shortest paths between the nodes of a graph (weight is optional)\n",
    "nx.average_shortest_path_length(G, weigt='Distanz') \n",
    "#Average length of teh shortest paths (weight is optional)\n",
    "\n",
    "nx.degree_centrality(G) \n",
    "#Lists for each node its importance in the network (number of outgoing edges).\n",
    "nx.eigenvector_centrality_numpy(G,weight='Distanz') \n",
    "#Lists for each node its importance in the network (influence on the network, as well as importance of the neighbouring nodes).\n",
    "```\n",
    "\n",
    "### Exercises:\n",
    "> - Analyse the graph created at the beginning"
   ]
  },
  {
   "cell_type": "code",
   "execution_count": null,
   "metadata": {},
   "outputs": [],
   "source": []
  },
  {
   "cell_type": "markdown",
   "metadata": {},
   "source": [
    "> - Analyse the flight path graph, find the most important nodes in the network and think about the fastest way to travel in the network."
   ]
  },
  {
   "cell_type": "code",
   "execution_count": null,
   "metadata": {},
   "outputs": [],
   "source": []
  },
  {
   "cell_type": "markdown",
   "metadata": {},
   "source": [
    "## More applications:\n",
    "<p style='text-align: justify;'>Finally, a function for tree graphs, such as phylogenetic trees: With this algorithm, the last common ancestor (lca) of two nodes of the \"tree\" can be found quickly and easily::</p>\n",
    "\n",
    "```Python\n",
    "nx.lowest_common_ancestor(G, Knoten1, Knoten2)\n",
    "```\n",
    "### Exercise:\n",
    "> - Execute the following code cell to load a graph\n",
    "> - Search the lca of different node pairs in this graph"
   ]
  },
  {
   "cell_type": "code",
   "execution_count": 1,
   "metadata": {},
   "outputs": [
    {
     "ename": "NameError",
     "evalue": "name 'nx' is not defined",
     "output_type": "error",
     "traceback": [
      "\u001b[1;31m---------------------------------------------------------------------------\u001b[0m",
      "\u001b[1;31mNameError\u001b[0m                                 Traceback (most recent call last)",
      "Input \u001b[1;32mIn [1]\u001b[0m, in \u001b[0;36m<cell line: 1>\u001b[1;34m()\u001b[0m\n\u001b[1;32m----> 1\u001b[0m baum \u001b[38;5;241m=\u001b[39m \u001b[43mnx\u001b[49m\u001b[38;5;241m.\u001b[39mDiGraph()\n\u001b[0;32m      2\u001b[0m baum\u001b[38;5;241m.\u001b[39madd_nodes_from([\u001b[38;5;241m1\u001b[39m,\u001b[38;5;241m2\u001b[39m,\u001b[38;5;241m3\u001b[39m,\u001b[38;5;241m4\u001b[39m,\u001b[38;5;241m5\u001b[39m,\u001b[38;5;241m6\u001b[39m,\u001b[38;5;241m7\u001b[39m,\u001b[38;5;241m8\u001b[39m,\u001b[38;5;241m9\u001b[39m,\u001b[38;5;241m10\u001b[39m,\u001b[38;5;241m11\u001b[39m,\u001b[38;5;241m12\u001b[39m,\u001b[38;5;241m13\u001b[39m,\u001b[38;5;241m14\u001b[39m,\u001b[38;5;241m15\u001b[39m,\u001b[38;5;241m16\u001b[39m,\u001b[38;5;241m17\u001b[39m,\u001b[38;5;241m18\u001b[39m,\u001b[38;5;241m19\u001b[39m,\u001b[38;5;241m20\u001b[39m])\n\u001b[0;32m      3\u001b[0m baum\u001b[38;5;241m.\u001b[39madd_edges_from([(\u001b[38;5;241m1\u001b[39m,\u001b[38;5;241m2\u001b[39m),(\u001b[38;5;241m2\u001b[39m,\u001b[38;5;241m3\u001b[39m),(\u001b[38;5;241m2\u001b[39m,\u001b[38;5;241m4\u001b[39m),(\u001b[38;5;241m3\u001b[39m,\u001b[38;5;241m5\u001b[39m),(\u001b[38;5;241m4\u001b[39m,\u001b[38;5;241m6\u001b[39m),(\u001b[38;5;241m5\u001b[39m,\u001b[38;5;241m7\u001b[39m),(\u001b[38;5;241m5\u001b[39m,\u001b[38;5;241m9\u001b[39m),(\u001b[38;5;241m5\u001b[39m,\u001b[38;5;241m11\u001b[39m),(\u001b[38;5;241m6\u001b[39m,\u001b[38;5;241m8\u001b[39m),(\u001b[38;5;241m6\u001b[39m,\u001b[38;5;241m10\u001b[39m),(\u001b[38;5;241m7\u001b[39m,\u001b[38;5;241m13\u001b[39m),(\u001b[38;5;241m7\u001b[39m,\u001b[38;5;241m15\u001b[39m),(\u001b[38;5;241m9\u001b[39m,\u001b[38;5;241m17\u001b[39m),(\u001b[38;5;241m9\u001b[39m,\u001b[38;5;241m19\u001b[39m),(\u001b[38;5;241m8\u001b[39m,\u001b[38;5;241m12\u001b[39m),(\u001b[38;5;241m10\u001b[39m,\u001b[38;5;241m14\u001b[39m),(\u001b[38;5;241m12\u001b[39m,\u001b[38;5;241m16\u001b[39m),(\u001b[38;5;241m12\u001b[39m,\u001b[38;5;241m18\u001b[39m),(\u001b[38;5;241m16\u001b[39m,\u001b[38;5;241m20\u001b[39m)])\n",
      "\u001b[1;31mNameError\u001b[0m: name 'nx' is not defined"
     ]
    }
   ],
   "source": [
    "baum = nx.DiGraph()\n",
    "baum.add_nodes_from([1,2,3,4,5,6,7,8,9,10,11,12,13,14,15,16,17,18,19,20])\n",
    "baum.add_edges_from([(1,2),(2,3),(2,4),(3,5),(4,6),(5,7),(5,9),(5,11),(6,8),(6,10),(7,13),(7,15),(9,17),(9,19),(8,12),(10,14),(12,16),(12,18),(16,20)])\n",
    "nx.draw(baum,with_labels=True)\n",
    "plt.show()"
   ]
  },
  {
   "cell_type": "code",
   "execution_count": null,
   "metadata": {},
   "outputs": [],
   "source": []
  }
 ],
 "metadata": {
  "kernelspec": {
   "display_name": "Python 3 (ipykernel)",
   "language": "python",
   "name": "python3"
  },
  "language_info": {
   "codemirror_mode": {
    "name": "ipython",
    "version": 3
   },
   "file_extension": ".py",
   "mimetype": "text/x-python",
   "name": "python",
   "nbconvert_exporter": "python",
   "pygments_lexer": "ipython3",
   "version": "3.9.12"
  }
 },
 "nbformat": 4,
 "nbformat_minor": 2
}
